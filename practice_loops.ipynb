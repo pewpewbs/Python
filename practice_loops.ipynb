{
  "cells": [
    {
      "cell_type": "markdown",
      "metadata": {
        "id": "bhnw_OBiped2"
      },
      "source": [
        "# I. range."
      ]
    },
    {
      "cell_type": "markdown",
      "metadata": {
        "id": "cS4sWGwctkLH"
      },
      "source": [
        "1. (4 бали) Створіть обʼєкт типу range, який буде містити послідовність цілих чисел від 0 до 9 включно. Виведіть його довжину (кількість значень)."
      ]
    },
    {
      "cell_type": "code",
      "execution_count": 2,
      "metadata": {
        "id": "1XFhN5gVte4X"
      },
      "outputs": [
        {
          "name": "stdout",
          "output_type": "stream",
          "text": [
            "10\n"
          ]
        }
      ],
      "source": [
        "print(len(range(10)))"
      ]
    },
    {
      "cell_type": "markdown",
      "metadata": {
        "id": "VZ0Dh0m-t9tM"
      },
      "source": [
        "2. (5 балів) Створіть обʼєкт типу range, який буде містити послідовність цілих чисел (16, 13, 10, 7, 4, 1, -2, -5)"
      ]
    },
    {
      "cell_type": "code",
      "execution_count": 6,
      "metadata": {
        "id": "YavF1Agaoe8J"
      },
      "outputs": [
        {
          "name": "stdout",
          "output_type": "stream",
          "text": [
            "16\n",
            "13\n",
            "10\n",
            "7\n",
            "4\n",
            "1\n",
            "-2\n",
            "-5\n"
          ]
        }
      ],
      "source": [
        "for a in range(16, -6, -3):\n",
        "    print(a)"
      ]
    },
    {
      "cell_type": "markdown",
      "metadata": {
        "id": "nBmE3_nMuavj"
      },
      "source": [
        "3. (4 бали) Створіть змінну зі значенням цілого типу. Перевірте, чи вона належить проміжку від 49 до 100 включно. Як ви гадаєте, для чого використовуються range?"
      ]
    },
    {
      "cell_type": "code",
      "execution_count": 13,
      "metadata": {
        "id": "5KmgBmOIuku4"
      },
      "outputs": [
        {
          "name": "stdout",
          "output_type": "stream",
          "text": [
            "не належить\n"
          ]
        }
      ],
      "source": [
        "import random\n",
        "\n",
        "number = random.randint(0, 10000)\n",
        "result = 'належить' if number in range(49, 101) else 'не належить'\n",
        "print(result)"
      ]
    },
    {
      "cell_type": "markdown",
      "metadata": {
        "id": "56FjMkPatTD6"
      },
      "source": [
        "# II. Comprehensions."
      ]
    },
    {
      "cell_type": "markdown",
      "metadata": {
        "id": "AZyfyNfYvOyq"
      },
      "source": [
        "4. (6 балів) Створіть множину (set), використовуючи range та set comprehension."
      ]
    },
    {
      "cell_type": "code",
      "execution_count": null,
      "metadata": {
        "id": "DE8oNYSUvNfR"
      },
      "outputs": [],
      "source": [
        "my_set = {x for x in range(10)}"
      ]
    },
    {
      "cell_type": "markdown",
      "metadata": {
        "id": "5IsyYnolvWxJ"
      },
      "source": [
        "5. (8 балів) Створіть словник, використовуючи dict comprehension, що містить if else. Коли слід використовувати comprehensions, а коли їх слід уникати?"
      ]
    },
    {
      "cell_type": "code",
      "execution_count": null,
      "metadata": {
        "id": "PTLiarj4vWVu"
      },
      "outputs": [],
      "source": [
        "numbers = range(1, 11)\n",
        "number_dict = {x: 'even' if x % 2 == 0 else 'odd' for x in numbers}\n",
        "print(number_dict)"
      ]
    },
    {
      "cell_type": "markdown",
      "metadata": {
        "id": "PcwgYcjdxYPA"
      },
      "source": [
        "Складні умови: Якщо умова стає складною, іноді вираз може стати менш зрозумілим та непереносним.\n",
        "Заплутані вирази: Якщо вираз стає дуже заплутаним або складним, може бути краще використовувати звичайний цикл та умовний оператор для кращої читабельності.\n",
        "Потреба в багатостроковому коді: Якщо вираз стає дуже довгим, і вам потрібно використовувати кілька рядків коду, comprehensions може стати менш зручним."
      ]
    },
    {
      "cell_type": "markdown",
      "metadata": {
        "id": "xPVEDwk6vfhU"
      },
      "source": [
        "6. (7 балів) Створіть список з рядками та запишіть його у змінну. Створіть ще один список на основі попереднього, де кожен рядок буде містити тільки три перших заглавних символи. Наприклад: ['hello', 'i', 'dont', 'care'] -> ['HEL', 'I', 'DON', 'CAR']"
      ]
    },
    {
      "cell_type": "code",
      "execution_count": 14,
      "metadata": {
        "id": "l1FAM69Owi7q"
      },
      "outputs": [
        {
          "name": "stdout",
          "output_type": "stream",
          "text": [
            "['HEL', 'I', 'DON', 'CAR']\n"
          ]
        }
      ],
      "source": [
        "original_list = ['hello', 'i', 'dont', 'care']\n",
        "\n",
        "modified_list = [word[:3].upper() for word in original_list]\n",
        "\n",
        "print(modified_list)\n"
      ]
    },
    {
      "cell_type": "markdown",
      "metadata": {
        "id": "9zEB8ekEtTnQ"
      },
      "source": [
        "# III. Цикли."
      ]
    },
    {
      "cell_type": "markdown",
      "metadata": {
        "id": "AlEfFe4Fwv8n"
      },
      "source": [
        "7. (6 балів) Продемонструйте роботу циклу while. Чи можна використовувати в умові циклу булеві значення? Чому?"
      ]
    },
    {
      "cell_type": "code",
      "execution_count": null,
      "metadata": {
        "id": "kiDSbqo0wwMZ"
      },
      "outputs": [],
      "source": [
        "# Встановлення початкового значення змінної\n",
        "flag = True\n",
        "\n",
        "# Цикл буде виконуватися, поки flag рівний True\n",
        "while flag:\n",
        "    user_input = input(\"Введіть 'stop', щоб зупинити цикл: \")\n",
        "    if user_input.lower() == 'stop':\n",
        "        flag = False  # Зміна значення, щоб вийти з циклу\n",
        "\n",
        "print(\"Цикл завершено.\")\n",
        "\n",
        "# Умовою циклу while може бути будь-який вираз, який може бути обчислений як булеве значення. "
      ]
    },
    {
      "cell_type": "markdown",
      "metadata": {
        "id": "J9TkD5_Cx3I1"
      },
      "source": [
        "8. (8 балів) Напишіть програму, яка виведе на екран непарні числа в діапазоні від 0 до 20 включно."
      ]
    },
    {
      "cell_type": "code",
      "execution_count": 19,
      "metadata": {
        "id": "5A1d-qvVx34B"
      },
      "outputs": [
        {
          "name": "stdout",
          "output_type": "stream",
          "text": [
            "1\n",
            "3\n",
            "5\n",
            "7\n",
            "9\n",
            "11\n",
            "13\n",
            "15\n",
            "17\n",
            "19\n"
          ]
        }
      ],
      "source": [
        "for i in range(21):\n",
        "    if i % 2 != 0:\n",
        "        print(i)\n"
      ]
    },
    {
      "cell_type": "markdown",
      "metadata": {
        "id": "xN6Kfmqex4NU"
      },
      "source": [
        "9. (7 балів) Створіть список з елементами булевого типу або None. Використовуючи цикли, отримайте в результаті список з кортежами, де перший елемент кортежу - індекс(ціле число), а другий елемент - відповідне значення з першого списку.\n",
        "\n",
        "Наприклад, [True, True, None, False] -> [(0, True), (1, True), (2, None), (3, False)]"
      ]
    },
    {
      "cell_type": "code",
      "execution_count": 20,
      "metadata": {
        "id": "YhVlQnNIx405"
      },
      "outputs": [
        {
          "name": "stdout",
          "output_type": "stream",
          "text": [
            "[(0, True), (1, True), (2, None), (3, False)]\n"
          ]
        }
      ],
      "source": [
        "original_list = [True, True, None, False]\n",
        "\n",
        "result_list = [(index, value) for index, value in enumerate(original_list)]\n",
        "\n",
        "print(result_list)\n"
      ]
    },
    {
      "cell_type": "markdown",
      "metadata": {
        "id": "cJNlWxHLx5mW"
      },
      "source": [
        "10. (10 балів) Створіть словник, де ключі - назви книжок, а значення - їхня кількість у наявності в Вашій міні-бібліотеці. Бібліотека має містити щонайменше 6 книжок (6 пар значень у словнику) і щонайбільше 10 (пар значень). Використовуючи цикли, оновіть словник (не створюйте новий) так, щоби кількість книг у наявності збільшилося на 5 кожної книги. Наприклад,\n",
        "{'It': 3, 'Fault stars': 10, 'Bible': 17, 'Psychological romance': 4, 'Harry Potter': 13} -> {'It': 8, 'Fault stars': 15, 'Bible': 22, 'Psychological romance': 9, 'Harry Potter': 18}"
      ]
    },
    {
      "cell_type": "code",
      "execution_count": 21,
      "metadata": {
        "id": "pI7I71ao0qh_"
      },
      "outputs": [
        {
          "name": "stdout",
          "output_type": "stream",
          "text": [
            "{'It': 8, 'Fault stars': 15, 'Bible': 22, 'Psychological romance': 9, 'Harry Potter': 18, 'Python Programming': 10}\n"
          ]
        }
      ],
      "source": [
        "library = {'It': 3, 'Fault stars': 10, 'Bible': 17, 'Psychological romance': 4, 'Harry Potter': 13, 'Python Programming': 5}\n",
        "\n",
        "for book in library:\n",
        "    library[book] += 5\n",
        "\n",
        "print(library)\n"
      ]
    },
    {
      "cell_type": "markdown",
      "metadata": {
        "id": "qdZA6qi82GBa"
      },
      "source": [
        "11. (15 балів) Визначте цілочислену змінну n, що належить проміжку від 4 до 10 включно. Використовуючи цикли, виведіть в консоль наступний патерн.\n",
        "\n",
        "#\n",
        "##\n",
        "###\n",
        "####\n",
        "\n",
        "... #*n\n"
      ]
    },
    {
      "cell_type": "code",
      "execution_count": 22,
      "metadata": {
        "id": "aaHuUQHfx6YO"
      },
      "outputs": [
        {
          "name": "stdout",
          "output_type": "stream",
          "text": [
            "#\n",
            "##\n",
            "###\n",
            "####\n",
            "#####\n",
            "######\n",
            "#######\n",
            "########\n"
          ]
        }
      ],
      "source": [
        "n = 8\n",
        "\n",
        "for i in range(1, n + 1):\n",
        "    print('#' * i)\n"
      ]
    },
    {
      "cell_type": "markdown",
      "metadata": {
        "id": "XOniyaun74Ed"
      },
      "source": [
        "12. (20 балів) Гра \"Нумо вгадай\".\n",
        "Розробіть просту гру, де користувач має вгадати випадкове число від 1 до 100. Для генерації випадкового числа використовуйте функцію random.randint(a, b) (тут a та b включно). Для отримання числа з консолі використовуйте функцію input(), результат якої обовʼязково явно приведіть до типу int.\n",
        "\n",
        "Підказка: використовуйте цикл while та умови if-else, щоб повідомити користувачу піказки (напр. \"Більше\", \"Менше\") поки користувач не вгадає. По завершенню виведіть кількість спроб, які знадобилися для вгадування.\n"
      ]
    }
  ],
  "metadata": {
    "colab": {
      "provenance": []
    },
    "kernelspec": {
      "display_name": "Python 3",
      "name": "python3"
    },
    "language_info": {
      "codemirror_mode": {
        "name": "ipython",
        "version": 3
      },
      "file_extension": ".py",
      "mimetype": "text/x-python",
      "name": "python",
      "nbconvert_exporter": "python",
      "pygments_lexer": "ipython3",
      "version": "3.12.0"
    }
  },
  "nbformat": 4,
  "nbformat_minor": 0
}
