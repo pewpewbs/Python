{
  "cells": [
    {
      "cell_type": "markdown",
      "metadata": {
        "id": "p9wwt0LZzNvn"
      },
      "source": [
        "# I. Змінні та памʼять."
      ]
    },
    {
      "cell_type": "markdown",
      "metadata": {
        "id": "HTJrrm95xSV9"
      },
      "source": [
        "1. Створити змінні, що посилаються на два цілих числа, що однакові за значенням, де значення належить проміжку від -5 до 256. Чи будуть ці змінні рівні тільки за значенням або ж ще будуть посилатися на один і той самий обʼєкт в памʼяті? Наведіть код та дайте текстову відповідь нижче."
      ]
    },
    {
      "cell_type": "code",
      "execution_count": 14,
      "metadata": {
        "id": "FHSFpb1bwTFG"
      },
      "outputs": [
        {
          "name": "stdout",
          "output_type": "stream",
          "text": [
            "False\n"
          ]
        }
      ],
      "source": [
        "import random\n",
        "\n",
        "one = random.randint(-5, 256)\n",
        "two = random.randint(-5, 256)\n",
        "\n",
        "def fun(one, two):\n",
        "    a = id(one)\n",
        "    b = id(two)\n",
        "    if a == b or one == two:\n",
        "        return True\n",
        "    else:\n",
        "        return False\n",
        "\n",
        "result = fun(one, two)\n",
        "print(result)\n",
        "\n"
      ]
    },
    {
      "cell_type": "markdown",
      "metadata": {
        "id": "N-soIzlV0Awv"
      },
      "source": [
        "2. Створити змінні, що посилаються на одне і те саме булеве значення. Чи будуть ці змінні рівні тільки за значенням або ж ще будуть посилатися на один і той самий обʼєкт в памʼяті? Наведіть код та дайте текстову відповідь нижче."
      ]
    },
    {
      "cell_type": "code",
      "execution_count": 15,
      "metadata": {
        "id": "qK1-VBih0Lgz"
      },
      "outputs": [
        {
          "name": "stdout",
          "output_type": "stream",
          "text": [
            "True\n"
          ]
        }
      ],
      "source": [
        "one = False\n",
        "two = one\n",
        "\n",
        "def fun(one, two):\n",
        "    a = id(one)\n",
        "    b = id(two)\n",
        "    if a == b:\n",
        "        return True\n",
        "    else:\n",
        "        return False\n",
        "    \n",
        "result = fun(one, two)\n",
        "print(result)"
      ]
    },
    {
      "cell_type": "markdown",
      "metadata": {
        "id": "ISORzt6M3vAt"
      },
      "source": [
        "3. За допомогою якої функції можна перевірити належність змінної до вказаного типу даних (напр. чи змінна посилається на значення булевого типу)?"
      ]
    },
    {
      "cell_type": "code",
      "execution_count": 16,
      "metadata": {
        "id": "N7HHGm4H4CW7"
      },
      "outputs": [
        {
          "name": "stdout",
          "output_type": "stream",
          "text": [
            "x належить до типу int\n"
          ]
        }
      ],
      "source": [
        "# За допомогою функції isinstance()\n",
        "# Приклад\n",
        "x = 1\n",
        "if isinstance(x, int):\n",
        "    print(\"x належить до типу int\")\n",
        "else:\n",
        "    print(\"x не належить до типу int\")\n"
      ]
    },
    {
      "cell_type": "markdown",
      "metadata": {
        "id": "tRxugKAxwYLw"
      },
      "source": [
        "# II. Цілі числа та числа з рухомою комою"
      ]
    },
    {
      "cell_type": "markdown",
      "metadata": {
        "id": "NLHkgd5Gybc8"
      },
      "source": [
        "4. Створити дві змінні, що посилаються на будь-які два цілих числа та продемонструвати такі арифметичні операції: додавання, віднімання, ділення, множення, ділення без залишку, ділення по модулю, приведення до ступеню. Всі результати операцій вивести на екран."
      ]
    },
    {
      "cell_type": "code",
      "execution_count": 17,
      "metadata": {
        "id": "Ck6JaN4Qysoc"
      },
      "outputs": [
        {
          "name": "stdout",
          "output_type": "stream",
          "text": [
            "Додавання: 10\n",
            "Віднімання: 4\n",
            "Множення: 21\n",
            "Ділення: 2.3333333333333335\n",
            "Ділення без залишку: 2\n",
            "Ділення по модулю: 1\n",
            "Підняття до ступеня: 343\n"
          ]
        }
      ],
      "source": [
        "number1 = 7\n",
        "number2 = 3\n",
        "\n",
        "# Додавання\n",
        "result_addition = number1 + number2\n",
        "print(\"Додавання:\", result_addition)\n",
        "\n",
        "# Віднімання\n",
        "result_subtraction = number1 - number2\n",
        "print(\"Віднімання:\", result_subtraction)\n",
        "\n",
        "# Множення\n",
        "result_multiplication = number1 * number2\n",
        "print(\"Множення:\", result_multiplication)\n",
        "\n",
        "# Ділення\n",
        "result_division = number1 / number2\n",
        "print(\"Ділення:\", result_division)\n",
        "\n",
        "# Ділення без залишку (цілочисельне ділення)\n",
        "result_floor_division = number1 // number2\n",
        "print(\"Ділення без залишку:\", result_floor_division)\n",
        "\n",
        "# Ділення по модулю (залишок від ділення)\n",
        "result_modulo = number1 % number2\n",
        "print(\"Ділення по модулю:\", result_modulo)\n",
        "\n",
        "# Підняття до ступеня\n",
        "result_exponentiation = number1 ** number2\n",
        "print(\"Підняття до ступеня:\", result_exponentiation)\n"
      ]
    },
    {
      "cell_type": "markdown",
      "metadata": {
        "id": "tOT1crlty3cE"
      },
      "source": [
        "5. Створити дві змінні, що посилаються на будь-які два числа з рухомою комою та продемонструвати такі арифметичні операції: додавання, віднімання, ділення, множення, ділення без залишку, ділення по модулю, приведення до ступеню. Всі результати операцій вивести на екран."
      ]
    },
    {
      "cell_type": "code",
      "execution_count": 18,
      "metadata": {
        "id": "m88_XOI9y-HI"
      },
      "outputs": [
        {
          "name": "stdout",
          "output_type": "stream",
          "text": [
            "Додавання: 10.8\n",
            "Віднімання: 4.2\n",
            "Множення: 24.75\n",
            "Ділення: 2.272727272727273\n",
            "Ділення без залишку: 2.0\n",
            "Ділення по модулю: 0.9000000000000004\n",
            "Підняття до ступеня: 772.1508772559141\n"
          ]
        }
      ],
      "source": [
        "number1 = 7.5\n",
        "number2 = 3.3\n",
        "\n",
        "# Додавання\n",
        "result_addition = number1 + number2\n",
        "print(\"Додавання:\", result_addition)\n",
        "\n",
        "# Віднімання\n",
        "result_subtraction = number1 - number2\n",
        "print(\"Віднімання:\", result_subtraction)\n",
        "\n",
        "# Множення\n",
        "result_multiplication = number1 * number2\n",
        "print(\"Множення:\", result_multiplication)\n",
        "\n",
        "# Ділення\n",
        "result_division = number1 / number2\n",
        "print(\"Ділення:\", result_division)\n",
        "\n",
        "# Ділення без залишку (цілочисельне ділення)\n",
        "result_floor_division = number1 // number2\n",
        "print(\"Ділення без залишку:\", result_floor_division)\n",
        "\n",
        "# Ділення по модулю (залишок від ділення)\n",
        "result_modulo = number1 % number2\n",
        "print(\"Ділення по модулю:\", result_modulo)\n",
        "\n",
        "# Підняття до ступеня\n",
        "result_exponentiation = number1 ** number2\n",
        "print(\"Підняття до ступеня:\", result_exponentiation)"
      ]
    },
    {
      "cell_type": "markdown",
      "metadata": {
        "id": "74jIsang0Yfe"
      },
      "source": [
        "6. Спробуйте проробити всі ті самі арифметичні операції над двома змінними, що посилаються на різні булеві значення. Прокоментуйте, чому, на Вашу думку, Ви отримали саме такі результати."
      ]
    },
    {
      "cell_type": "code",
      "execution_count": 1,
      "metadata": {
        "id": "Py3JN4gU0eTq"
      },
      "outputs": [
        {
          "name": "stdout",
          "output_type": "stream",
          "text": [
            "Додавання: 1\n",
            "Віднімання: 1\n",
            "Множення: 0\n"
          ]
        },
        {
          "ename": "ZeroDivisionError",
          "evalue": "division by zero",
          "output_type": "error",
          "traceback": [
            "\u001b[1;31m---------------------------------------------------------------------------\u001b[0m",
            "\u001b[1;31mZeroDivisionError\u001b[0m                         Traceback (most recent call last)",
            "Cell \u001b[1;32mIn[1], line 17\u001b[0m\n\u001b[0;32m     14\u001b[0m \u001b[38;5;28mprint\u001b[39m(\u001b[38;5;124m\"\u001b[39m\u001b[38;5;124mМноження:\u001b[39m\u001b[38;5;124m\"\u001b[39m, result_multiplication)\n\u001b[0;32m     16\u001b[0m \u001b[38;5;66;03m# Ділення\u001b[39;00m\n\u001b[1;32m---> 17\u001b[0m result_division \u001b[38;5;241m=\u001b[39m \u001b[43mnumber1\u001b[49m\u001b[43m \u001b[49m\u001b[38;5;241;43m/\u001b[39;49m\u001b[43m \u001b[49m\u001b[43mnumber2\u001b[49m\n\u001b[0;32m     18\u001b[0m \u001b[38;5;28mprint\u001b[39m(\u001b[38;5;124m\"\u001b[39m\u001b[38;5;124mДілення:\u001b[39m\u001b[38;5;124m\"\u001b[39m, result_division)\n\u001b[0;32m     20\u001b[0m \u001b[38;5;66;03m# Ділення без залишку (цілочисельне ділення)\u001b[39;00m\n",
            "\u001b[1;31mZeroDivisionError\u001b[0m: division by zero"
          ]
        }
      ],
      "source": [
        "number1 = True\n",
        "number2 = False\n",
        "\n",
        "# Додавання\n",
        "result_addition = number1 + number2\n",
        "print(\"Додавання:\", result_addition)\n",
        "\n",
        "# Віднімання\n",
        "result_subtraction = number1 - number2\n",
        "print(\"Віднімання:\", result_subtraction)\n",
        "\n",
        "# Множення\n",
        "result_multiplication = number1 * number2\n",
        "print(\"Множення:\", result_multiplication)\n",
        "\n",
        "# Ділення\n",
        "result_division = number1 / number2\n",
        "print(\"Ділення:\", result_division)\n",
        "\n",
        "# Ділення без залишку (цілочисельне ділення)\n",
        "result_floor_division = number1 // number2\n",
        "print(\"Ділення без залишку:\", result_floor_division)\n",
        "\n",
        "# Ділення по модулю (залишок від ділення)\n",
        "result_modulo = number1 % number2\n",
        "print(\"Ділення по модулю:\", result_modulo)\n",
        "\n",
        "# Підняття до ступеня\n",
        "result_exponentiation = number1 ** number2\n",
        "print(\"Підняття до ступеня:\", result_exponentiation)\n",
        "\n",
        "# Булеві значення True та False можна розглядати як 1 і 0 відповідно, коли вони використовуються в контексті числових операцій. Python розглядає булеві значення як 1 (True) і 0 (False) в числових операціях. Проте важливо враховувати, що такі операції можуть призводити до неочікуваних результатів"
      ]
    },
    {
      "cell_type": "markdown",
      "metadata": {
        "id": "1kBClKgPzZnC"
      },
      "source": [
        "7. Використовуючи змінні з вправи 3, продемонструйте механізм явного перетворення типів, де числа з рухомою комою перетворюються на цілі числа."
      ]
    },
    {
      "cell_type": "code",
      "execution_count": null,
      "metadata": {
        "id": "akcVeUWYzlpb"
      },
      "outputs": [],
      "source": [
        "one = random.randint(-5, 256)\n",
        "two = random.randint(-5, 256)\n",
        "\n",
        "print(\"Змінна one (до перетворення):\", one)\n",
        "print(\"Змінна two (до перетворення):\", two)\n",
        "\n",
        "one = int(one)\n",
        "two = int(two)\n",
        "\n",
        "print(\"Змінна one (після перетворення):\", one)\n",
        "print(\"Змінна two (після перетворення):\", two)\n"
      ]
    },
    {
      "cell_type": "markdown",
      "metadata": {
        "id": "GYVqN9uP1D4n"
      },
      "source": [
        "# III. Робота зі списками."
      ]
    },
    {
      "cell_type": "markdown",
      "metadata": {
        "id": "7-DeDunw2sO-"
      },
      "source": [
        "8. Створити список двома різними за синтаксисом способами. За допомогою вбудованої функції обчисліть довжину одного з них."
      ]
    },
    {
      "cell_type": "code",
      "execution_count": 2,
      "metadata": {
        "id": "jY07arjK21hH"
      },
      "outputs": [
        {
          "name": "stdout",
          "output_type": "stream",
          "text": [
            "Довжина списку: 10\n"
          ]
        }
      ],
      "source": [
        "list1 = [1, 2, 3, 4, 5]\n",
        "list2 = list(\"HelloWorld\")\n",
        "\n",
        "lenght1 = len(list2)\n",
        "print('Довжина списку:', lenght1)"
      ]
    },
    {
      "cell_type": "markdown",
      "metadata": {
        "id": "8vmGUTjL22gI"
      },
      "source": [
        "9. Створіть два списка та за допомогою спеціального методу додайте другий з них в якості останнього елемента першого."
      ]
    },
    {
      "cell_type": "code",
      "execution_count": 3,
      "metadata": {
        "id": "DSP6lO_m4cdV"
      },
      "outputs": [
        {
          "name": "stdout",
          "output_type": "stream",
          "text": [
            "[1, 2, 3, 4, 5, 6]\n"
          ]
        }
      ],
      "source": [
        "list1 = [1, 2, 3]\n",
        "list2 = [4, 5, 6]\n",
        "\n",
        "list1.extend(list2)\n",
        "print(list1)"
      ]
    },
    {
      "cell_type": "markdown",
      "metadata": {
        "id": "6ke6ng2j4dtq"
      },
      "source": [
        "10. Створіть два списка та за допомогою спеціального методу \"розширте\" перший (додайте всі елементи другого в кінець першого списку). Напишіть, чим відрізняються методи в завданні 9 та 10."
      ]
    },
    {
      "cell_type": "code",
      "execution_count": 4,
      "metadata": {
        "id": "DVJVvu494q8d"
      },
      "outputs": [
        {
          "name": "stdout",
          "output_type": "stream",
          "text": [
            "Результат додавання [1, 2, 3, [4, 5, 6]]\n"
          ]
        }
      ],
      "source": [
        "# Створення двох списків\n",
        "list1 = [1, 2, 3]\n",
        "list2 = [4, 5, 6]\n",
        "\n",
        "# Використання того ж методу extend() для додавання елементів list2 в кінець list1\n",
        "list1.append(list2)\n",
        "\n",
        "# Виведення результату\n",
        "print(\"Результат додавання\", list1)\n"
      ]
    },
    {
      "cell_type": "markdown",
      "metadata": {
        "id": "iu_NyJeR4vOu"
      },
      "source": [
        "11. Створіть список та відсортуйте його так, щоб:\n",
        "а) його id залишився незмінним після сортування.\n",
        "б) результат сортування був збережений у нову змінну. Підказка: для одного пункту використовуйте вбудовану функцію стортування, а в іншому - спеціальний метод для роботи зі списками."
      ]
    },
    {
      "cell_type": "code",
      "execution_count": 3,
      "metadata": {
        "id": "LWdiIkDj5Nxo"
      },
      "outputs": [
        {
          "name": "stdout",
          "output_type": "stream",
          "text": [
            "2035097779584\n",
            "[1, 2, 3, 4, 5, 6]\n",
            "2035097779584\n"
          ]
        }
      ],
      "source": [
        "list1 = [2, 3, 4, 5, 1, 6]\n",
        "print(id(list1))\n",
        "list1.sort()\n",
        "print(list1)\n",
        "print(id(list1))\n"
      ]
    },
    {
      "cell_type": "code",
      "execution_count": 1,
      "metadata": {
        "id": "JHl9vlFa5bHt"
      },
      "outputs": [
        {
          "name": "stdout",
          "output_type": "stream",
          "text": [
            "2497477743040\n",
            "2497477743040\n"
          ]
        }
      ],
      "source": [
        "# b\n",
        "list1 = [2, 3, 4, 5, 1, 6]\n",
        "list1.sort()\n",
        "print(id(list1))\n",
        "list2 = list1\n",
        "print(id(list2))\n"
      ]
    },
    {
      "cell_type": "markdown",
      "metadata": {
        "id": "1l80guua5bia"
      },
      "source": [
        "12. Створіть список з елементами різного типу, де деякі значення елементів повторюються. За допомогою спеціального методу порахуйте кількість значень одного з елементів на Ваш вибір. Результат виведіть на екран."
      ]
    },
    {
      "cell_type": "code",
      "execution_count": 2,
      "metadata": {
        "id": "tWFdczmv5z5Q"
      },
      "outputs": [
        {
          "name": "stdout",
          "output_type": "stream",
          "text": [
            "Вихідний список: [1, 'apple', 3.14, 'banana', 1, 2, 'apple', True, 1, 'orange']\n",
            "Кількість 'apple' у списку: 2\n"
          ]
        }
      ],
      "source": [
        "# Створення списку з елементами різного типу\n",
        "my_list = [1, \"apple\", 3.14, \"banana\", 1, 2, \"apple\", True, 1, \"orange\"]\n",
        "\n",
        "# Виведення вихідного списку\n",
        "print(\"Вихідний список:\", my_list)\n",
        "\n",
        "# Використання методу count() для підрахунку кількості значень \"apple\"\n",
        "count_apple = my_list.count(\"apple\")\n",
        "\n",
        "# Виведення результату\n",
        "print(\"Кількість 'apple' у списку:\", count_apple)\n"
      ]
    },
    {
      "cell_type": "markdown",
      "metadata": {
        "id": "pCjR1dJb1Qbi"
      },
      "source": [
        "# IV. Робота з кортежами."
      ]
    },
    {
      "cell_type": "markdown",
      "metadata": {
        "id": "te3MAUYq28TV"
      },
      "source": [
        "13. Створити список з один типом елементів та на основі цього списку створити кортеж."
      ]
    },
    {
      "cell_type": "code",
      "execution_count": 3,
      "metadata": {
        "id": "uq3O114R2_H1"
      },
      "outputs": [
        {
          "name": "stdout",
          "output_type": "stream",
          "text": [
            "Вихідний список: [1, 2, 3, 4, 5]\n",
            "Створений кортеж: (1, 2, 3, 4, 5)\n"
          ]
        }
      ],
      "source": [
        "my_list = [1, 2, 3, 4, 5]\n",
        "\n",
        "print(\"Вихідний список:\", my_list)\n",
        "\n",
        "my_tuple = tuple(my_list)\n",
        "\n",
        "print(\"Створений кортеж:\", my_tuple)"
      ]
    },
    {
      "cell_type": "markdown",
      "metadata": {
        "id": "fAZCxAX06R_k"
      },
      "source": [
        "14. Створити кортеж з один елементом."
      ]
    },
    {
      "cell_type": "code",
      "execution_count": 7,
      "metadata": {
        "id": "-QWjudqk6kHd"
      },
      "outputs": [
        {
          "name": "stdout",
          "output_type": "stream",
          "text": [
            "Створений кортеж: 1\n"
          ]
        }
      ],
      "source": [
        "tuple = (1)\n",
        "print(\"Створений кортеж:\", tuple)"
      ]
    },
    {
      "cell_type": "markdown",
      "metadata": {
        "id": "VfTSJwQF7djZ"
      },
      "source": [
        "15. Створити кортеж. Вивести на екран всі доступні його атрибути та методи."
      ]
    },
    {
      "cell_type": "code",
      "execution_count": 8,
      "metadata": {
        "id": "x9elcFfr774r"
      },
      "outputs": [
        {
          "name": "stdout",
          "output_type": "stream",
          "text": [
            "Атрибути та методи кортежу:\n",
            "['__add__', '__class__', '__class_getitem__', '__contains__', '__delattr__', '__dir__', '__doc__', '__eq__', '__format__', '__ge__', '__getattribute__', '__getitem__', '__getnewargs__', '__getstate__', '__gt__', '__hash__', '__init__', '__init_subclass__', '__iter__', '__le__', '__len__', '__lt__', '__mul__', '__ne__', '__new__', '__reduce__', '__reduce_ex__', '__repr__', '__rmul__', '__setattr__', '__sizeof__', '__str__', '__subclasshook__', 'count', 'index']\n"
          ]
        }
      ],
      "source": [
        "my_tuple = (1, 2, 3, 4, 5)\n",
        "\n",
        "print(\"Атрибути та методи кортежу:\")\n",
        "print(dir(my_tuple))\n"
      ]
    },
    {
      "cell_type": "markdown",
      "metadata": {
        "id": "8LCtYcmI6w1M"
      },
      "source": [
        "16. Порівняйте список та кортеж. Назвіть схожості та відмінності, випадки використання."
      ]
    },
    {
      "cell_type": "markdown",
      "metadata": {
        "id": "QTP622J81iHk"
      },
      "source": [
        "# V. Індексування та слайсинг."
      ]
    },
    {
      "cell_type": "markdown",
      "metadata": {
        "id": "4dmeIU-N9gHy"
      },
      "source": [
        "17. Створіть список з 6ти елементів. Отримайте третій елемент за допомогою двох різних індексів."
      ]
    },
    {
      "cell_type": "code",
      "execution_count": 11,
      "metadata": {
        "id": "47LTFhfH9pRe"
      },
      "outputs": [
        {
          "name": "stdout",
          "output_type": "stream",
          "text": [
            "3 3\n"
          ]
        }
      ],
      "source": [
        "list = [1, 2, 3, 4, 5, 6,]\n",
        "print(list[2], list[-4])"
      ]
    },
    {
      "cell_type": "markdown",
      "metadata": {
        "id": "JC3BkD-67_--"
      },
      "source": [
        "18. Створіть список, де елементами цього списку також є списки. Отримай перший елемент з останнього рядка та виведи значення на екран."
      ]
    },
    {
      "cell_type": "code",
      "execution_count": 14,
      "metadata": {
        "id": "ctR2jdq68cB0"
      },
      "outputs": [
        {
          "name": "stdout",
          "output_type": "stream",
          "text": [
            "Перший елемент з останнього рядка: 10\n"
          ]
        }
      ],
      "source": [
        "nested_list = [\n",
        "    [1, 2, 3],\n",
        "    [4, 5, 6],\n",
        "    [7, 8, 9],\n",
        "    [10, 11, 12]\n",
        "]\n",
        "\n",
        "first_element_last_row = nested_list[3][0]\n",
        "\n",
        "print(\"Перший елемент з останнього рядка:\", first_element_last_row)\n"
      ]
    },
    {
      "cell_type": "markdown",
      "metadata": {
        "id": "A-hPrvOS8cjx"
      },
      "source": [
        "19. Створіть кортеж, що містить 8  елементів цілочисленного типу. Виведіть на екран три найменших значення."
      ]
    },
    {
      "cell_type": "code",
      "execution_count": null,
      "metadata": {
        "id": "GPxJKNUm8xHU"
      },
      "outputs": [],
      "source": [
        "my_tuple = (8, 2, 5, 10, 1, 7, 3, 6)\n",
        "\n",
        "print(\"Вихідний кортеж:\", my_tuple)\n",
        "\n",
        "three_smallest_values = sorted(my_tuple)[:3]\n",
        "print(\"Три найменших значення:\", three_smallest_values)"
      ]
    },
    {
      "cell_type": "markdown",
      "metadata": {
        "id": "JA47PKTv8zFK"
      },
      "source": [
        "20. Створіть список з десяти елементів різного типу. Отримайте всі елементи, окрім двох перших та двох останніх та збережіть їх в новій змінній."
      ]
    },
    {
      "cell_type": "code",
      "execution_count": 15,
      "metadata": {
        "id": "g-GAQS_kAlmr"
      },
      "outputs": [
        {
          "name": "stdout",
          "output_type": "stream",
          "text": [
            "Вихідний список: [1, 'two', 3.0, 4, 'five', 6, [7, 8], True, 'nine', 10]\n",
            "Новий список: [3.0, 4, 'five', 6, [7, 8], True]\n"
          ]
        }
      ],
      "source": [
        "my_list = [1, 'two', 3.0, 4, 'five', 6, [7, 8], True, 'nine', 10]\n",
        "\n",
        "print(\"Вихідний список:\", my_list)\n",
        "\n",
        "new_list = my_list[2:-2]\n",
        "\n",
        "print(\"Новий список:\", new_list)"
      ]
    },
    {
      "cell_type": "markdown",
      "metadata": {
        "id": "m0xrwFijAmDD"
      },
      "source": [
        "21. Створіть кортеж з 11ти елементів чисел з рухомою комою та отримайте кожен парний за індексом елемент в зворотньому порядку. Наприклад, маючи (1.2, 2.3, 3.3, 4.3, 5.3, 6.3, 7.3, 8.3, 9.3, 0.3), отримати (0.3, 8.3, 6.3, 4.3, 2.3). Результат збережіть в нову змінну та виведіть на екран."
      ]
    },
    {
      "cell_type": "code",
      "execution_count": 16,
      "metadata": {
        "id": "BQwYLEXdBVBo"
      },
      "outputs": [
        {
          "name": "stdout",
          "output_type": "stream",
          "text": [
            "Вихідний кортеж: (1.2, 2.3, 3.3, 4.3, 5.3, 6.3, 7.3, 8.3, 9.3, 0.3, 11.3)\n",
            "Результат: (0.3, 8.3, 6.3, 4.3, 2.3)\n"
          ]
        }
      ],
      "source": [
        "my_tuple = (1.2, 2.3, 3.3, 4.3, 5.3, 6.3, 7.3, 8.3, 9.3, 0.3, 11.3)\n",
        "\n",
        "print(\"Вихідний кортеж:\", my_tuple)\n",
        "\n",
        "result_tuple = my_tuple[-2::-2]\n",
        "\n",
        "print(\"Результат:\", result_tuple)"
      ]
    }
  ],
  "metadata": {
    "colab": {
      "provenance": []
    },
    "kernelspec": {
      "display_name": "Python 3",
      "name": "python3"
    },
    "language_info": {
      "codemirror_mode": {
        "name": "ipython",
        "version": 3
      },
      "file_extension": ".py",
      "mimetype": "text/x-python",
      "name": "python",
      "nbconvert_exporter": "python",
      "pygments_lexer": "ipython3",
      "version": "3.11.7"
    }
  },
  "nbformat": 4,
  "nbformat_minor": 0
}
