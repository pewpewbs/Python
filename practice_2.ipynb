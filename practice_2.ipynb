{
  "cells": [
    {
      "cell_type": "markdown",
      "metadata": {
        "id": "EVJ7AflwxrZi"
      },
      "source": [
        "# I. Рядки (String)."
      ]
    },
    {
      "cell_type": "markdown",
      "metadata": {
        "id": "_s5ECzz9zE61"
      },
      "source": [
        "1. Створити пустий рядок двома різними способами."
      ]
    },
    {
      "cell_type": "code",
      "execution_count": null,
      "metadata": {
        "id": "HsDOUUMWxo6D"
      },
      "outputs": [],
      "source": [
        "a = \"\"\n",
        "b = str()"
      ]
    },
    {
      "cell_type": "markdown",
      "metadata": {
        "id": "4Bdn9J3MzLf_"
      },
      "source": [
        "2. Створити рядок з апострофом."
      ]
    },
    {
      "cell_type": "code",
      "execution_count": null,
      "metadata": {
        "id": "OjyFU0iKzPc2"
      },
      "outputs": [],
      "source": [
        "a = \"'\""
      ]
    },
    {
      "cell_type": "markdown",
      "metadata": {
        "id": "qj7LjXFazbx1"
      },
      "source": [
        "3. Створити рядок з символом переходу на новий рядок та роздрукувати його в консоль."
      ]
    },
    {
      "cell_type": "code",
      "execution_count": 1,
      "metadata": {
        "id": "K9J-tLXczmyo"
      },
      "outputs": [
        {
          "name": "stdout",
          "output_type": "stream",
          "text": [
            "a\n",
            "b\n"
          ]
        }
      ],
      "source": [
        "a = \"a\\nb\"\n",
        "print(a)"
      ]
    },
    {
      "cell_type": "markdown",
      "metadata": {
        "id": "XEYGh-BGzzfD"
      },
      "source": [
        "4. Зробити рядок з завдання №3 \"сирим\"(raw), вивести в консоль та порівняти з результатом в попередному завданні."
      ]
    },
    {
      "cell_type": "code",
      "execution_count": 5,
      "metadata": {},
      "outputs": [
        {
          "name": "stdout",
          "output_type": "stream",
          "text": [
            "a \n",
            "b\n"
          ]
        }
      ],
      "source": [
        "a_raw = r\"a\"\n",
        "b_new = \"\\nb\"\n",
        "print(a_raw, b_new)\n"
      ]
    },
    {
      "cell_type": "markdown",
      "metadata": {
        "id": "bg_d8wM4z8dS"
      },
      "source": [
        "5. Створити змінну, що буде посилатися на Ваше прізвище латинкою. Створити форматований рядок, який буде мати вигляд \"My surname is ______\", де на місці нижніх підкреслень буде Ваше прізвище зі змінної."
      ]
    },
    {
      "cell_type": "code",
      "execution_count": 1,
      "metadata": {
        "id": "Cr847KKpz7zF"
      },
      "outputs": [
        {
          "name": "stdout",
          "output_type": "stream",
          "text": [
            "My surname is Bovsunovskiy\n"
          ]
        }
      ],
      "source": [
        "worlds = \"My surname is \"\n",
        "name = \"Bovsunovskiy\"\n",
        "print(worlds + name)"
      ]
    },
    {
      "cell_type": "markdown",
      "metadata": {
        "id": "1Nc6RqvQ0hxU"
      },
      "source": [
        "6. Маючи рядок \"My dog is crazy.\" перетворити його на список [\"my\", \"dog\", \"is\", \"crazy\"]"
      ]
    },
    {
      "cell_type": "code",
      "execution_count": 10,
      "metadata": {
        "id": "dGU4MImR063l"
      },
      "outputs": [
        {
          "name": "stdout",
          "output_type": "stream",
          "text": [
            "['My', 'dog', 'is', 'crazy.']\n"
          ]
        }
      ],
      "source": [
        "a = \"My dog is crazy.\"\n",
        "list1 = a.split()\n",
        "print(list1)"
      ]
    },
    {
      "cell_type": "markdown",
      "metadata": {
        "id": "rW_I9dt3x6cW"
      },
      "source": [
        "# II. Множини (Set)."
      ]
    },
    {
      "cell_type": "markdown",
      "metadata": {
        "id": "zNjRLHLw1Bgg"
      },
      "source": [
        "7. Створити множину без елементів. Після цого за допомогою методу додайте кілька різних елементів до множини. Чи множини є змінним типом даних?"
      ]
    },
    {
      "cell_type": "code",
      "execution_count": 11,
      "metadata": {
        "id": "CB72VZWZ1A7c"
      },
      "outputs": [
        {
          "name": "stdout",
          "output_type": "stream",
          "text": [
            "{1, 'dog'}\n"
          ]
        }
      ],
      "source": [
        "a = set()\n",
        "a.add(1)\n",
        "a.add(\"dog\")\n",
        "print(a)"
      ]
    },
    {
      "cell_type": "markdown",
      "metadata": {
        "id": "tqxtcfgK4Wkx"
      },
      "source": [
        "*місце для відповіді"
      ]
    },
    {
      "cell_type": "markdown",
      "metadata": {
        "id": "gHpT0Zw_1HEF"
      },
      "source": [
        "8. Створити множину, маючи список my_list = [1, 1, 2, 67, 67, 8, 9]. Пояснити, чому \"зникли\" деякі елементи."
      ]
    },
    {
      "cell_type": "code",
      "execution_count": 13,
      "metadata": {
        "id": "U5YnFsPp1OCU"
      },
      "outputs": [
        {
          "name": "stdout",
          "output_type": "stream",
          "text": [
            "{1, 2, 67, 8, 9}\n"
          ]
        }
      ],
      "source": [
        "my_list = [1, 1, 2, 67, 67, 8, 9]\n",
        "a = set(my_list)\n",
        "print(a)\n",
        "\n",
        "# Тому що множини мають тільки унікальні елементи, і якщо додається список до множини всі дубликати видаляються і в множині зберігаються лише унікальні елементи."
      ]
    },
    {
      "cell_type": "markdown",
      "metadata": {
        "id": "SRMkGizS1UwY"
      },
      "source": [
        "9. Створіть дві множини. Продемонстуйте над ними операції: обʼєднання, різниці, пересічі та симетричної різниці. Використовуйте методи, що не змінюють множини, а створюють нові."
      ]
    },
    {
      "cell_type": "code",
      "execution_count": 15,
      "metadata": {
        "id": "pj5ta1CS2LAa"
      },
      "outputs": [
        {
          "name": "stdout",
          "output_type": "stream",
          "text": [
            "Обєднання: {1, 2, 3, 4, 5, 6, 7, 8}\n",
            "Різниця: {1, 2, 3}\n",
            "Перетин: {4, 5}\n",
            "Симетрична різниця: {1, 2, 3, 6, 7, 8}\n"
          ]
        }
      ],
      "source": [
        "set1 = {1, 2, 3, 4, 5}\n",
        "set2 = {4, 5, 6, 7, 8}\n",
        "\n",
        "union_set = set1.union(set2)\n",
        "print(\"Обєднання:\", union_set)\n",
        "\n",
        "difference_set = set1.difference(set2)\n",
        "print(\"Різниця:\", difference_set)\n",
        "\n",
        "intersection_set = set1.intersection(set2)\n",
        "print(\"Перетин:\", intersection_set)\n",
        "\n",
        "symmetric_difference_set = set1.symmetric_difference(set2)\n",
        "print(\"Симетрична різниця:\", symmetric_difference_set)\n"
      ]
    },
    {
      "cell_type": "markdown",
      "metadata": {
        "id": "ECo4rGAW2e4S"
      },
      "source": [
        "10. Створіть множину з пʼяти елементів. За допомогою спеціального методу, вилучіть три елементи один за одним з множини. Чи може гарантуватися порядок елементів у множинах?"
      ]
    },
    {
      "cell_type": "code",
      "execution_count": 16,
      "metadata": {
        "id": "tCoJigA-4Ryd"
      },
      "outputs": [
        {
          "name": "stdout",
          "output_type": "stream",
          "text": [
            "Елемент 1: 50\n",
            "Елемент 2: 20\n",
            "Елемент 3: 40\n",
            "Оновлена множина: {10, 30}\n"
          ]
        }
      ],
      "source": [
        "my_set = {10, 20, 30, 40, 50}\n",
        "\n",
        "element1 = my_set.pop()\n",
        "element2 = my_set.pop()\n",
        "element3 = my_set.pop()\n",
        "\n",
        "print(\"Елемент 1:\", element1)\n",
        "print(\"Елемент 2:\", element2)\n",
        "print(\"Елемент 3:\", element3)\n",
        "\n",
        "print(\"Оновлена множина:\", my_set)\n",
        "\n",
        "# Порядок елементів в множині не зберігається, і при кожному використанні методів чи операцій над множинами порядок може змінюватися."
      ]
    },
    {
      "cell_type": "markdown",
      "metadata": {
        "id": "t7f5oKmP2qum"
      },
      "source": [
        "*місце для відповіді"
      ]
    },
    {
      "cell_type": "markdown",
      "metadata": {
        "id": "kWc8gkzTx7Ea"
      },
      "source": [
        "# III. Словники (Dictionary)."
      ]
    },
    {
      "cell_type": "markdown",
      "metadata": {
        "id": "FHIRdwck2uji"
      },
      "source": [
        "11. Створіть пустий словник двома способами."
      ]
    },
    {
      "cell_type": "code",
      "execution_count": 17,
      "metadata": {
        "id": "sF2WCzwJ2yDq"
      },
      "outputs": [],
      "source": [
        "empty_dict1 = {}\n",
        "empty_dict2 = dict()\n"
      ]
    },
    {
      "cell_type": "markdown",
      "metadata": {
        "id": "i5FLwj-B2ybQ"
      },
      "source": [
        "12. До одного зі словників вище додайте чотири пари елементів такі, щоб їхні ключі були різних типів."
      ]
    },
    {
      "cell_type": "code",
      "execution_count": 2,
      "metadata": {
        "id": "lqunD0EZ2_Vg"
      },
      "outputs": [
        {
          "name": "stdout",
          "output_type": "stream",
          "text": [
            "{'name': 'Sviat', 42: 'Answer', 3.14: 'Pi', ('a', 'b'): 'Tuple'}\n"
          ]
        }
      ],
      "source": [
        "my_dict = {}\n",
        "\n",
        "my_dict[\"name\"] = \"Sviat\"\n",
        "my_dict[42] = \"Answer\"\n",
        "my_dict[3.14] = \"Pi\"\n",
        "my_dict[(\"a\", \"b\")] = \"Tuple\"\n",
        "\n",
        "print(my_dict)"
      ]
    },
    {
      "cell_type": "markdown",
      "metadata": {
        "id": "XOD2Aaj13Bqx"
      },
      "source": [
        "*чи може список бути ключем? а значенням? чому?"
      ]
    },
    {
      "cell_type": "markdown",
      "metadata": {},
      "source": [
        " Список не може бути ключем у словнику, але він може бути значенням. Причина полягає у тому, що ключі словника повинні бути незмінюваними об'єктами, оскільки вони використовуються для хешування. Списки у Python є змінюваними, і, отже, не можуть бути використані в якості ключів."
      ]
    },
    {
      "cell_type": "markdown",
      "metadata": {
        "id": "9Tjhmuf73KE6"
      },
      "source": [
        "13. Використовуючи той самий словник, отримайте по ключу будь-яке значення з наявних. Тепер видаліть цю пару ключ-значення. Спробуйте знову отримати значення по цьому ж ключу. Використовуючи спеціальний метод, виправте помилку."
      ]
    },
    {
      "cell_type": "code",
      "execution_count": 4,
      "metadata": {
        "id": "cNMenuGQ3JMa"
      },
      "outputs": [
        {
          "name": "stdout",
          "output_type": "stream",
          "text": [
            "Значення за ключем 'name': Sviat\n",
            "Значення за ключем 'name' після виправлення: Default Value\n"
          ]
        }
      ],
      "source": [
        "my_dict = {'name': 'Sviat', 42: 'Answer', 3.14: 'Pi', ('a', 'b'): 'Tuple'}\n",
        "\n",
        "key_to_get = 'name'\n",
        "value = my_dict.get(key_to_get)\n",
        "\n",
        "print(f\"Значення за ключем '{key_to_get}': {value}\")\n",
        "del my_dict[key_to_get]\n",
        "\n",
        "value_after_deletion = my_dict.setdefault(key_to_get, 'Default Value')\n",
        "\n",
        "print(f\"Значення за ключем '{key_to_get}' після виправлення: {value_after_deletion}\")\n",
        "\n",
        "# Спроба знову отримати значення за тим же ключем (викличе помилку)"
      ]
    },
    {
      "cell_type": "markdown",
      "metadata": {
        "id": "SLtQabwUx7Xc"
      },
      "source": [
        "# IV. Оператори порівняння та логічні оператори. Умови."
      ]
    },
    {
      "cell_type": "markdown",
      "metadata": {
        "id": "SrehzC-n3-ln"
      },
      "source": [
        "14. Створіть цілочисленну змінну зі своїм щасливим або улюбленим числом. Напишіть код, який би автоматизовував наступну задачу.\n",
        "\n",
        "Якщо число парне, помножте його на 2 та виведіть результат на екран.\n",
        "\n",
        "Але якщо число непарне, помножте його на 3 та додайте 1 і виведіть на екран.\n"
      ]
    },
    {
      "cell_type": "code",
      "execution_count": 20,
      "metadata": {
        "id": "g0cchKGl3-Gq"
      },
      "outputs": [
        {
          "name": "stdout",
          "output_type": "stream",
          "text": [
            "5 є непарне число.\n"
          ]
        }
      ],
      "source": [
        "number = 5\n",
        "# тернарний умовний оператор\n",
        "result = 'парне' if number % 2 == 0 else 'непарне'\n",
        "print(f\"{number} є {result} число.\")"
      ]
    },
    {
      "cell_type": "markdown",
      "metadata": {
        "id": "PRXLVdU26E5Z"
      },
      "source": [
        "15. Створіть рядок зі своїм імʼям латинкою. Напишіть код, який би автоматизовував наступну задачу.\n",
        "\n",
        "Якщо в імені є літера \"а\"\n",
        " або \"i\", Виведіть на екран повідомлення \"A or I is in the name\".\n",
        "\n",
        "\n",
        "\n",
        "Якщо в імені є літери \"o\" та \"n\", Виведіть на екран повідомлення \"O and N is in the name\".\n",
        "\n",
        "Також якщо в імені немає літери \"о\", але є \"n\", Виведіть на екран повідомлення \"Only N is in the name\".\n",
        "\n",
        "В решті випадків виведіть на екран повідомлення \"There is no N in the name, but there might be O\".\n",
        "\n",
        "Зверніть увагу, що, наприклад, для імені \"Antonina\" буде виведено два повідомлення."
      ]
    },
    {
      "cell_type": "code",
      "execution_count": 21,
      "metadata": {
        "id": "bQlf4ZUh6Pdz"
      },
      "outputs": [
        {
          "name": "stdout",
          "output_type": "stream",
          "text": [
            "A or I is in the name\n",
            "O and N is in the name\n"
          ]
        }
      ],
      "source": [
        "name = \"Antonina\"\n",
        "\n",
        "if 'a' in name or 'i' in name:\n",
        "    print(\"A or I is in the name\")\n",
        "\n",
        "if 'o' in name and 'n' in name:\n",
        "    print(\"O and N is in the name\")\n",
        "elif 'n' in name:\n",
        "    print(\"Only N is in the name\")\n",
        "else:\n",
        "    print(\"There is no N in the name, but there might be O\")\n"
      ]
    }
  ],
  "metadata": {
    "colab": {
      "provenance": []
    },
    "kernelspec": {
      "display_name": "Python 3",
      "name": "python3"
    },
    "language_info": {
      "codemirror_mode": {
        "name": "ipython",
        "version": 3
      },
      "file_extension": ".py",
      "mimetype": "text/x-python",
      "name": "python",
      "nbconvert_exporter": "python",
      "pygments_lexer": "ipython3",
      "version": "3.11.7"
    }
  },
  "nbformat": 4,
  "nbformat_minor": 0
}
