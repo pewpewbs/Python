{
  "cells": [
    {
      "cell_type": "markdown",
      "metadata": {
        "id": "-xM96SkgLNxS"
      },
      "source": [
        "# I. Functions. Arguments."
      ]
    },
    {
      "cell_type": "markdown",
      "metadata": {
        "id": "RFkkDC1jikAI"
      },
      "source": [
        "0. (5б) Назвіть 4 частини, з яких складається визначення функції."
      ]
    },
    {
      "cell_type": "code",
      "execution_count": null,
      "metadata": {
        "id": "tV4xxWnFisqZ"
      },
      "outputs": [],
      "source": [
        "1. Імя функції 2.Параметри(Аргументи) 3.Тіло Функції 4. Значення що повертає"
      ]
    },
    {
      "cell_type": "markdown",
      "metadata": {
        "id": "mg6qjOB2LbVs"
      },
      "source": [
        "1. (4б) Визначте функцію, що приймає 2 аргументи та повертає результат ділення 1го аргумента на інший."
      ]
    },
    {
      "cell_type": "code",
      "execution_count": 2,
      "metadata": {
        "id": "lUbA_FWjKxQD"
      },
      "outputs": [],
      "source": [
        "def fun(num_1, num_2):\n",
        "    return num_1 / num_2"
      ]
    },
    {
      "cell_type": "markdown",
      "metadata": {
        "id": "wMAYj2KXLpiJ"
      },
      "source": [
        "2. (2б) Викличте вище визначену функцію, де другий аргумент дорівнює 0."
      ]
    },
    {
      "cell_type": "code",
      "execution_count": 4,
      "metadata": {
        "id": "103jJj32Lo4Y"
      },
      "outputs": [
        {
          "ename": "ZeroDivisionError",
          "evalue": "division by zero",
          "output_type": "error",
          "traceback": [
            "\u001b[1;31m---------------------------------------------------------------------------\u001b[0m",
            "\u001b[1;31mZeroDivisionError\u001b[0m                         Traceback (most recent call last)",
            "Cell \u001b[1;32mIn[4], line 6\u001b[0m\n\u001b[0;32m      3\u001b[0m     \u001b[38;5;28mprint\u001b[39m(result)\n\u001b[0;32m      4\u001b[0m     \u001b[38;5;28;01mreturn\u001b[39;00m result\n\u001b[1;32m----> 6\u001b[0m \u001b[43mfun\u001b[49m\u001b[43m(\u001b[49m\u001b[38;5;241;43m5\u001b[39;49m\u001b[43m,\u001b[49m\u001b[43m \u001b[49m\u001b[38;5;241;43m0\u001b[39;49m\u001b[43m)\u001b[49m\n",
            "Cell \u001b[1;32mIn[4], line 2\u001b[0m, in \u001b[0;36mfun\u001b[1;34m(num_1, num_2)\u001b[0m\n\u001b[0;32m      1\u001b[0m \u001b[38;5;28;01mdef\u001b[39;00m \u001b[38;5;21mfun\u001b[39m(num_1, num_2):\n\u001b[1;32m----> 2\u001b[0m     result \u001b[38;5;241m=\u001b[39m \u001b[43mnum_1\u001b[49m\u001b[43m \u001b[49m\u001b[38;5;241;43m/\u001b[39;49m\u001b[43m \u001b[49m\u001b[43mnum_2\u001b[49m\n\u001b[0;32m      3\u001b[0m     \u001b[38;5;28mprint\u001b[39m(result)\n\u001b[0;32m      4\u001b[0m     \u001b[38;5;28;01mreturn\u001b[39;00m result\n",
            "\u001b[1;31mZeroDivisionError\u001b[0m: division by zero"
          ]
        }
      ],
      "source": [
        "def fun(num_1, num_2):\n",
        "    result = num_1 / num_2\n",
        "    print(result)\n",
        "    return result\n",
        "\n",
        "fun(5, 0)"
      ]
    },
    {
      "cell_type": "markdown",
      "metadata": {
        "id": "eT-pwEwPMD3T"
      },
      "source": [
        "3. (6б) Перевизначте функцію так, щоби у випадку ділення на 0 функція повертала None, а в решті випадків - результат розрахунків."
      ]
    },
    {
      "cell_type": "code",
      "execution_count": 8,
      "metadata": {
        "id": "1h6Jz7CKMTk_"
      },
      "outputs": [
        {
          "name": "stdout",
          "output_type": "stream",
          "text": [
            "Помилка: Ділення на нуль.\n"
          ]
        }
      ],
      "source": [
        "def fun():\n",
        "    num_1 = 5\n",
        "    num_2 = 0\n",
        "\n",
        "    if num_2 != 0:\n",
        "        result = num_1 / num_2\n",
        "        print(result)\n",
        "        return result\n",
        "    else:\n",
        "        print(\"Помилка: Ділення на нуль.\")\n",
        "        return None\n",
        "\n",
        "fun_result = fun()\n",
        "\n",
        "if fun_result is not None:\n",
        "    print(\"Результат ділення:\", fun_result)\n"
      ]
    },
    {
      "cell_type": "markdown",
      "metadata": {
        "id": "iuTiofyDMVMG"
      },
      "source": [
        "4. (5б) Напишіть документацію (docstring) у форматі Google до функції, що має обчислювати суму двох чисел."
      ]
    },
    {
      "cell_type": "code",
      "execution_count": null,
      "metadata": {
        "id": "a9E6iU_iNyYQ"
      },
      "outputs": [],
      "source": [
        "def calculate_sum(a, b):\n",
        "    \"\"\"\n",
        "    Обчислює суму двох чисел.\n",
        "\n",
        "    Параметри:\n",
        "    a (float або int): Перше число.\n",
        "    b (float або int): Друге число.\n",
        "\n",
        "    Повертає:\n",
        "    float або int: Сума двох чисел.\n",
        "\n",
        "    Приклад:\n",
        "    >>> calculate_sum(3, 5)\n",
        "    8\n",
        "\n",
        "    >>> calculate_sum(2.5, 7.5)\n",
        "    10.0\n",
        "    \"\"\"\n",
        "    result = a + b\n",
        "    return result\n"
      ]
    },
    {
      "cell_type": "markdown",
      "metadata": {
        "id": "ZvrsUQZFN5VT"
      },
      "source": [
        "5. (4б) Реалізуйте цю функцію (із додаванням docstring у визначення функції)."
      ]
    },
    {
      "cell_type": "code",
      "execution_count": null,
      "metadata": {
        "id": "K5h3KTVuOBP3"
      },
      "outputs": [],
      "source": [
        "def calculate_sum(a, b):\n",
        "    \"\"\"\n",
        "    Обчислює суму двох чисел.\n",
        "\n",
        "    Параметри:\n",
        "    a (float або int): Перше число.\n",
        "    b (float або int): Друге число.\n",
        "\n",
        "    Повертає:\n",
        "    float або int: Сума двох чисел.\n",
        "\n",
        "    Приклад:\n",
        "    >>> calculate_sum(3, 5)\n",
        "    8\n",
        "\n",
        "    >>> calculate_sum(2.5, 7.5)\n",
        "    10.0\n",
        "    \"\"\"\n",
        "    result = a + b\n",
        "    return result\n"
      ]
    },
    {
      "cell_type": "markdown",
      "metadata": {
        "id": "IILi2wfYOwYb"
      },
      "source": [
        "6. (6б) Визначте функцію, що віднімає одне число від іншого (підказка: це буде 2 аргументи функції). При чому, якщо не визначити, скільки саме має бути віднято від числа, за замовчуванням має відніматися 1. Викличте функцію, передаючи тільки один аргумент."
      ]
    },
    {
      "cell_type": "code",
      "execution_count": 9,
      "metadata": {
        "id": "hybHnk8ROvxQ"
      },
      "outputs": [],
      "source": [
        "def subtract_numbers(a, b=1):\n",
        "    \"\"\"\n",
        "    Віднімає одне число від іншого.\n",
        "\n",
        "    Параметри:\n",
        "    a (float або int): Перше число.\n",
        "    b (float або int): Число, яке віднімається (за замовчуванням 1).\n",
        "\n",
        "    Повертає:\n",
        "    float або int: Різниця між двома числами.\n",
        "    \"\"\"\n",
        "    result = a - b\n",
        "    return result\n"
      ]
    },
    {
      "cell_type": "markdown",
      "metadata": {
        "id": "UK6o8zcuR7cH"
      },
      "source": [
        "7. (10б) Визначте функцію, яка приймає iterable (ітерабельний обʼєкт, напр. список), що складається з 7ми рядкових значень - назв погодних умов (напр. \"sunny\") за кожен день у тижні. Повертає функція словник, де ключами є рядки з погодними умовами, а значеннями - кількість разів, скільки дана погода була протягом тижня (напр. {'sunny': 1, ...})."
      ]
    },
    {
      "cell_type": "code",
      "execution_count": 10,
      "metadata": {
        "id": "3gkR5gl0SyYO"
      },
      "outputs": [
        {
          "name": "stdout",
          "output_type": "stream",
          "text": [
            "{'sunny': 3, 'rainy': 2, 'cloudy': 2}\n"
          ]
        }
      ],
      "source": [
        "def count_weather_occurrences(weather_conditions):\n",
        "    \"\"\"\n",
        "    Повертає словник, де ключами є рядки з погодними умовами,\n",
        "    а значеннями - кількість разів, скільки дана погода була протягом тижня.\n",
        "\n",
        "    Параметри:\n",
        "    weather_conditions (iterable): Ітерабельний об'єкт, що містить 7 рядкових значень - погодні умови.\n",
        "\n",
        "    Повертає:\n",
        "    dict: Словник з кількістю входжень кожної погодної умови за тиждень.\n",
        "    \"\"\"\n",
        "    weather_count = {}\n",
        "\n",
        "    for condition in weather_conditions:\n",
        "        weather_count[condition] = weather_count.get(condition, 0) + 1\n",
        "\n",
        "    return weather_count\n",
        "\n",
        "weekly_weather = [\"sunny\", \"rainy\", \"cloudy\", \"sunny\", \"sunny\", \"rainy\", \"cloudy\"]\n",
        "result = count_weather_occurrences(weekly_weather)\n",
        "print(result)\n"
      ]
    },
    {
      "cell_type": "markdown",
      "metadata": {
        "id": "x4zhem_2Syf7"
      },
      "source": [
        "8. (3б) Викличте цю функцію тричі з різними аргументами та виведіть результати на екран."
      ]
    },
    {
      "cell_type": "code",
      "execution_count": 11,
      "metadata": {
        "id": "B0agh7urS0Fc"
      },
      "outputs": [
        {
          "name": "stdout",
          "output_type": "stream",
          "text": [
            "Результат 1: {'sunny': 3, 'rainy': 2, 'cloudy': 2}\n",
            "Результат 2: {'cloudy': 2, 'rainy': 2, 'sunny': 3}\n",
            "Результат 3: {'rainy': 3, 'sunny': 2, 'cloudy': 2}\n"
          ]
        }
      ],
      "source": [
        "# Приклад 1\n",
        "weekly_weather_1 = [\"sunny\", \"rainy\", \"cloudy\", \"sunny\", \"sunny\", \"rainy\", \"cloudy\"]\n",
        "result_1 = count_weather_occurrences(weekly_weather_1)\n",
        "print(\"Результат 1:\", result_1)\n",
        "\n",
        "# Приклад 2\n",
        "weekly_weather_2 = [\"cloudy\", \"rainy\", \"sunny\", \"sunny\", \"cloudy\", \"sunny\", \"rainy\"]\n",
        "result_2 = count_weather_occurrences(weekly_weather_2)\n",
        "print(\"Результат 2:\", result_2)\n",
        "\n",
        "# Приклад 3\n",
        "weekly_weather_3 = [\"rainy\", \"rainy\", \"sunny\", \"cloudy\", \"cloudy\", \"rainy\", \"sunny\"]\n",
        "result_3 = count_weather_occurrences(weekly_weather_3)\n",
        "print(\"Результат 3:\", result_3)\n"
      ]
    },
    {
      "cell_type": "markdown",
      "metadata": {
        "id": "bLgviTMlUlNG"
      },
      "source": [
        "9. (15б) Напишіть програму, яка б шукала необхідне число у **впорядкованому** списку цілочислених значень, де\n",
        "\n",
        "\n",
        "1.   число має вводитись з консолі.\n",
        "2.   власне алгоритм пошуку винесений в окрему функцію, яка повертає булеве значення (знайдено число - True, не знайдено - False).\n",
        "3. в залежності від результату функції, виведіть на екран повідомлення про успішний або ж неуспішний пошук.\n",
        "\n",
        "\n",
        "**Зауваження**: використовувати оператор **in** заборонено."
      ]
    },
    {
      "cell_type": "code",
      "execution_count": 12,
      "metadata": {
        "id": "LAHz6MmdcWfP"
      },
      "outputs": [
        {
          "name": "stdout",
          "output_type": "stream",
          "text": [
            "Число 5 знайдено у списку.\n"
          ]
        }
      ],
      "source": [
        "def binary_search(arr, target):\n",
        "    \"\"\"\n",
        "    Виконує бінарний пошук у впорядкованому списку.\n",
        "\n",
        "    Параметри:\n",
        "    arr (list): Впорядкований список цілих чисел.\n",
        "    target (int): Шукане число.\n",
        "\n",
        "    Повертає:\n",
        "    bool: True, якщо число знайдено; False, якщо не знайдено.\n",
        "    \"\"\"\n",
        "    left, right = 0, len(arr) - 1\n",
        "\n",
        "    while left <= right:\n",
        "        mid = (left + right) // 2\n",
        "        mid_value = arr[mid]\n",
        "\n",
        "        if mid_value == target:\n",
        "            return True\n",
        "        elif mid_value < target:\n",
        "            left = mid + 1\n",
        "        else:\n",
        "            right = mid - 1\n",
        "\n",
        "    return False\n",
        "\n",
        "def main():\n",
        "    sorted_list = [1, 3, 5, 7, 9, 11, 13, 15, 17, 19]\n",
        "\n",
        "    # Введення шуканого числа з консолі\n",
        "    target_number = int(input(\"Введіть число для пошуку: \"))\n",
        "\n",
        "    result = binary_search(sorted_list, target_number)\n",
        "    \n",
        "    if result:\n",
        "        print(f\"Число {target_number} знайдено у списку.\")\n",
        "    else:\n",
        "        print(f\"Число {target_number} не знайдено у списку.\")\n",
        "\n",
        "if __name__ == \"__main__\":\n",
        "    main()\n"
      ]
    },
    {
      "cell_type": "markdown",
      "metadata": {
        "id": "wCKOEiKhLSld"
      },
      "source": [
        "# II. Lambda functions."
      ]
    },
    {
      "cell_type": "markdown",
      "metadata": {
        "id": "c4EBfW6QcXF7"
      },
      "source": [
        "10. (6б) Визначте анонімну функцію, що виконувала б завдання з задачі №1."
      ]
    },
    {
      "cell_type": "code",
      "execution_count": 14,
      "metadata": {
        "id": "sGgO6KjuhUj5"
      },
      "outputs": [
        {
          "name": "stdout",
          "output_type": "stream",
          "text": [
            "8\n"
          ]
        }
      ],
      "source": [
        "calculate_sum = lambda a, b: a + b\n",
        "\n",
        "result = calculate_sum(3, 5)\n",
        "print(result)\n"
      ]
    },
    {
      "cell_type": "markdown",
      "metadata": {
        "id": "fWa0efmRhepO"
      },
      "source": [
        "11. (5б) В яких випадках варто використовувати лямбда-функції?"
      ]
    },
    {
      "cell_type": "markdown",
      "metadata": {
        "id": "R68BViaPhad_"
      },
      "source": [
        "Лямбда-функції використовуються в тих випадках, коли потрібно створити невелику функцію без необхідності оголошення її імені за допомогою звичайного оператора def."
      ]
    },
    {
      "cell_type": "markdown",
      "metadata": {
        "id": "0CL6ikIkhU7j"
      },
      "source": [
        "12. (9б) Визначте список з рядками. Після цього визначте анонімну функцію для отримання першого символу у верхньому регістрі для кожного рядка списку.\n",
        "*Підказка*: використовуйте анонімну функцію в якості агрумента до вбудованої ф-ції, яка створена для застосування функцій над iterable обʼєктами.\n",
        "Результат виведіть на екран у вигляді кортежу."
      ]
    },
    {
      "cell_type": "code",
      "execution_count": 15,
      "metadata": {
        "id": "I1Lw2SSNhhJw"
      },
      "outputs": [
        {
          "name": "stdout",
          "output_type": "stream",
          "text": [
            "('A', 'B', 'C', 'D')\n"
          ]
        }
      ],
      "source": [
        "string_list = [\"apple\", \"banana\", \"cherry\", \"date\"]\n",
        "\n",
        "upper_first_char = lambda s: s[0].upper()\n",
        "\n",
        "result_tuple = tuple(map(upper_first_char, string_list))\n",
        "\n",
        "print(result_tuple)\n"
      ]
    },
    {
      "cell_type": "markdown",
      "metadata": {
        "id": "rgGmGt67m5yi"
      },
      "source": [
        "# III. Decorators."
      ]
    },
    {
      "cell_type": "markdown",
      "metadata": {
        "id": "DZm1W0Qqncu8"
      },
      "source": [
        "13. (15б) Визначте декоратор, який би виводив у консоль повідомлення про початок роботи і назву функції, а після відпрацювання функції - повідомлення про закінчення роботи і назву функції, що задекорована."
      ]
    },
    {
      "cell_type": "code",
      "execution_count": 17,
      "metadata": {
        "id": "5s3X3F6soer0"
      },
      "outputs": [
        {
          "name": "stdout",
          "output_type": "stream",
          "text": [
            "Початок роботи функції: example_function\n",
            "Виклик прикладної функції\n",
            "Закінчення роботи функції: example_function\n"
          ]
        }
      ],
      "source": [
        "def function_decorator(func):\n",
        "    def wrapper(*args, **kwargs):\n",
        "        # Вивід повідомлення про початок роботи функції\n",
        "        print(f\"Початок роботи функції: {func.__name__}\")\n",
        "\n",
        "        # Виклик задекорованої функції\n",
        "        result = func(*args, **kwargs)\n",
        "\n",
        "        # Вивід повідомлення про закінчення роботи функції\n",
        "        print(f\"Закінчення роботи функції: {func.__name__}\")\n",
        "\n",
        "        # Повернення результату від задекорованої функції\n",
        "        return result\n",
        "\n",
        "    return wrapper\n",
        "\n",
        "# Використання декоратора для задекоровування функції\n",
        "@function_decorator\n",
        "def example_function():\n",
        "    print(\"Виклик прикладної функції\")\n",
        "\n",
        "# Виклик задекорованої функції\n",
        "example_function()\n"
      ]
    },
    {
      "cell_type": "markdown",
      "metadata": {
        "id": "AlGt40oVofHB"
      },
      "source": [
        "14. (7б) Задекоруйте функції з завдання 3, 5 та 6 декоратором із завдання 13. *Примітка*: продемонструйте 2 способи, як можна задекорувати функції (**УВАГА**: не декоруйте функції двічі!)."
      ]
    },
    {
      "cell_type": "code",
      "execution_count": 18,
      "metadata": {
        "id": "hkxhoRVqo1AW"
      },
      "outputs": [
        {
          "name": "stdout",
          "output_type": "stream",
          "text": [
            "Початок роботи функції: task_3_function\n",
            "Виклик функції з завдання 3\n",
            "Закінчення роботи функції: task_3_function\n",
            "Початок роботи функції: task_5_function\n",
            "Виклик функції з завдання 5\n",
            "Закінчення роботи функції: task_5_function\n",
            "Початок роботи функції: task_6_function\n",
            "Виклик функції з завдання 6\n",
            "Закінчення роботи функції: task_6_function\n"
          ]
        }
      ],
      "source": [
        "def function_decorator(func):\n",
        "    def wrapper(*args, **kwargs):\n",
        "        print(f\"Початок роботи функції: {func.__name__}\")\n",
        "\n",
        "        # Виклик задекорованої функції\n",
        "        result = func(*args, **kwargs)\n",
        "\n",
        "        print(f\"Закінчення роботи функції: {func.__name__}\")\n",
        "\n",
        "        return result\n",
        "\n",
        "    return wrapper\n",
        "\n",
        "@function_decorator\n",
        "def task_3_function():\n",
        "    print(\"Виклик функції з завдання 3\")\n",
        "\n",
        "@function_decorator\n",
        "def task_5_function():\n",
        "    print(\"Виклик функції з завдання 5\")\n",
        "\n",
        "@function_decorator\n",
        "def task_6_function():\n",
        "    print(\"Виклик функції з завдання 6\")\n",
        "\n",
        "task_3_function()\n",
        "task_5_function()\n",
        "task_6_function()\n"
      ]
    },
    {
      "cell_type": "markdown",
      "metadata": {
        "id": "6QkS0Kxzo4UR"
      },
      "source": [
        "15. (2б) Викличте одну з задекорованих функцій і виведіть її результат на екран."
      ]
    }
  ],
  "metadata": {
    "colab": {
      "provenance": []
    },
    "kernelspec": {
      "display_name": "Python 3",
      "name": "python3"
    },
    "language_info": {
      "codemirror_mode": {
        "name": "ipython",
        "version": 3
      },
      "file_extension": ".py",
      "mimetype": "text/x-python",
      "name": "python",
      "nbconvert_exporter": "python",
      "pygments_lexer": "ipython3",
      "version": "3.11.7"
    }
  },
  "nbformat": 4,
  "nbformat_minor": 0
}
